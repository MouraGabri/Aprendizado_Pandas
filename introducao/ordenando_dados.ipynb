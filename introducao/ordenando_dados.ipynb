{
 "cells": [
  {
   "cell_type": "code",
   "execution_count": 1,
   "metadata": {},
   "outputs": [
    {
     "data": {
      "text/html": [
       "<div>\n",
       "<style scoped>\n",
       "    .dataframe tbody tr th:only-of-type {\n",
       "        vertical-align: middle;\n",
       "    }\n",
       "\n",
       "    .dataframe tbody tr th {\n",
       "        vertical-align: top;\n",
       "    }\n",
       "\n",
       "    .dataframe thead th {\n",
       "        text-align: right;\n",
       "    }\n",
       "</style>\n",
       "<table border=\"1\" class=\"dataframe\">\n",
       "  <thead>\n",
       "    <tr style=\"text-align: right;\">\n",
       "      <th></th>\n",
       "      <th>AddressID</th>\n",
       "      <th>AddressLine1</th>\n",
       "      <th>AddressLine2</th>\n",
       "      <th>City</th>\n",
       "      <th>StateProvinceID</th>\n",
       "      <th>PostalCode</th>\n",
       "      <th>SpatialLocation</th>\n",
       "      <th>rowguid</th>\n",
       "      <th>ModifiedDate</th>\n",
       "    </tr>\n",
       "  </thead>\n",
       "  <tbody>\n",
       "    <tr>\n",
       "      <th>0</th>\n",
       "      <td>1</td>\n",
       "      <td>1970 Napa Ct.</td>\n",
       "      <td>NaN</td>\n",
       "      <td>Bothell</td>\n",
       "      <td>79</td>\n",
       "      <td>98011</td>\n",
       "      <td>0xE6100000010CAE8BFC28BCE4474067A89189898A5EC0</td>\n",
       "      <td>9AADCB0D-36CF-483F-84D8-585C2D4EC6E9</td>\n",
       "      <td>2007-12-04 00:00:00.000</td>\n",
       "    </tr>\n",
       "  </tbody>\n",
       "</table>\n",
       "</div>"
      ],
      "text/plain": [
       "   AddressID   AddressLine1 AddressLine2     City  StateProvinceID PostalCode  \\\n",
       "0          1  1970 Napa Ct.          NaN  Bothell               79      98011   \n",
       "\n",
       "                                  SpatialLocation  \\\n",
       "0  0xE6100000010CAE8BFC28BCE4474067A89189898A5EC0   \n",
       "\n",
       "                                rowguid             ModifiedDate  \n",
       "0  9AADCB0D-36CF-483F-84D8-585C2D4EC6E9  2007-12-04 00:00:00.000  "
      ]
     },
     "execution_count": 1,
     "metadata": {},
     "output_type": "execute_result"
    }
   ],
   "source": [
    "import pandas as pd\n",
    "df = pd.read_csv(r'C:\\Users\\gm194\\Downloads\\Dados.csv', encoding= \"UTF-8\", sep = \";\")\n",
    "df.head(1)"
   ]
  },
  {
   "cell_type": "markdown",
   "metadata": {},
   "source": [
    "## Ordenando os Dados\n",
    "<sub>O comando {implace = True}, ele já vai gravar direto no seu df essa ordenação.\n",
    "Caso não usar o implace, essa ordenação só vai valer para a célula que você esta manipulando\n",
    "</small>"
   ]
  },
  {
   "cell_type": "code",
   "execution_count": 11,
   "metadata": {},
   "outputs": [
    {
     "data": {
      "text/html": [
       "<div>\n",
       "<style scoped>\n",
       "    .dataframe tbody tr th:only-of-type {\n",
       "        vertical-align: middle;\n",
       "    }\n",
       "\n",
       "    .dataframe tbody tr th {\n",
       "        vertical-align: top;\n",
       "    }\n",
       "\n",
       "    .dataframe thead th {\n",
       "        text-align: right;\n",
       "    }\n",
       "</style>\n",
       "<table border=\"1\" class=\"dataframe\">\n",
       "  <thead>\n",
       "    <tr style=\"text-align: right;\">\n",
       "      <th></th>\n",
       "      <th>AddressID</th>\n",
       "      <th>AddressLine1</th>\n",
       "      <th>AddressLine2</th>\n",
       "      <th>City</th>\n",
       "      <th>StateProvinceID</th>\n",
       "      <th>PostalCode</th>\n",
       "      <th>SpatialLocation</th>\n",
       "      <th>rowguid</th>\n",
       "      <th>ModifiedDate</th>\n",
       "    </tr>\n",
       "  </thead>\n",
       "  <tbody>\n",
       "    <tr>\n",
       "      <th>650</th>\n",
       "      <td>651</td>\n",
       "      <td>New Millhouse, 2583 Milton Park</td>\n",
       "      <td>NaN</td>\n",
       "      <td>Abingdon</td>\n",
       "      <td>14</td>\n",
       "      <td>OX14 4SE</td>\n",
       "      <td>0xE6100000010CA30E22D348C74940997460FF5E81F4BF</td>\n",
       "      <td>E844B847-B0B3-491D-A4F1-0B78F56E4424</td>\n",
       "      <td>2013-07-31 00:00:00.000</td>\n",
       "    </tr>\n",
       "  </tbody>\n",
       "</table>\n",
       "</div>"
      ],
      "text/plain": [
       "     AddressID                     AddressLine1 AddressLine2      City  \\\n",
       "650        651  New Millhouse, 2583 Milton Park          NaN  Abingdon   \n",
       "\n",
       "     StateProvinceID PostalCode  \\\n",
       "650               14   OX14 4SE   \n",
       "\n",
       "                                    SpatialLocation  \\\n",
       "650  0xE6100000010CA30E22D348C74940997460FF5E81F4BF   \n",
       "\n",
       "                                  rowguid             ModifiedDate  \n",
       "650  E844B847-B0B3-491D-A4F1-0B78F56E4424  2013-07-31 00:00:00.000  "
      ]
     },
     "execution_count": 11,
     "metadata": {},
     "output_type": "execute_result"
    }
   ],
   "source": [
    "## Esta opção a ordenação não esta gravada no DF ainda\n",
    "df_filtrado_temporario = df.sort_values('City').head()\n",
    "\n",
    "## Essa forma acaba gravando a ordenação no DF\n",
    "df_filtrado_definitivo = df.sort_values('City', inplace = True)\n",
    "df.head(1)"
   ]
  },
  {
   "cell_type": "markdown",
   "metadata": {},
   "source": [
    "## Ordenando de forma crescente\n",
    "<sub>O comando ascending é ordenador do { Menor para o Maior}. Caso não queira que seja crescente, basta apenas colocar {False no ascending}\n",
    "</small>"
   ]
  },
  {
   "cell_type": "code",
   "execution_count": 21,
   "metadata": {},
   "outputs": [
    {
     "data": {
      "text/html": [
       "<div>\n",
       "<style scoped>\n",
       "    .dataframe tbody tr th:only-of-type {\n",
       "        vertical-align: middle;\n",
       "    }\n",
       "\n",
       "    .dataframe tbody tr th {\n",
       "        vertical-align: top;\n",
       "    }\n",
       "\n",
       "    .dataframe thead th {\n",
       "        text-align: right;\n",
       "    }\n",
       "</style>\n",
       "<table border=\"1\" class=\"dataframe\">\n",
       "  <thead>\n",
       "    <tr style=\"text-align: right;\">\n",
       "      <th></th>\n",
       "      <th>AddressID</th>\n",
       "      <th>AddressLine1</th>\n",
       "      <th>AddressLine2</th>\n",
       "      <th>City</th>\n",
       "      <th>StateProvinceID</th>\n",
       "      <th>PostalCode</th>\n",
       "      <th>SpatialLocation</th>\n",
       "      <th>rowguid</th>\n",
       "      <th>ModifiedDate</th>\n",
       "    </tr>\n",
       "  </thead>\n",
       "  <tbody>\n",
       "    <tr>\n",
       "      <th>769</th>\n",
       "      <td>770</td>\n",
       "      <td>123 Union Square South</td>\n",
       "      <td>NaN</td>\n",
       "      <td>New York</td>\n",
       "      <td>54</td>\n",
       "      <td>10007</td>\n",
       "      <td>0xE6100000010CEF85DA7D4558444099FB5F7FFC8552C0</td>\n",
       "      <td>CEC2AD79-89D2-43A7-BA8C-FB2B11BDC170</td>\n",
       "      <td>2011-07-01 00:00:00.000</td>\n",
       "    </tr>\n",
       "  </tbody>\n",
       "</table>\n",
       "</div>"
      ],
      "text/plain": [
       "     AddressID            AddressLine1 AddressLine2      City  \\\n",
       "769        770  123 Union Square South          NaN  New York   \n",
       "\n",
       "     StateProvinceID PostalCode  \\\n",
       "769               54      10007   \n",
       "\n",
       "                                    SpatialLocation  \\\n",
       "769  0xE6100000010CEF85DA7D4558444099FB5F7FFC8552C0   \n",
       "\n",
       "                                  rowguid             ModifiedDate  \n",
       "769  CEC2AD79-89D2-43A7-BA8C-FB2B11BDC170  2011-07-01 00:00:00.000  "
      ]
     },
     "execution_count": 21,
     "metadata": {},
     "output_type": "execute_result"
    }
   ],
   "source": [
    "df_filtrado_temporario_1 = df.sort_values('PostalCode', ascending= True)\n",
    "df_filtrado_temporario_1.head(1)"
   ]
  }
 ],
 "metadata": {
  "kernelspec": {
   "display_name": "Python 3",
   "language": "python",
   "name": "python3"
  },
  "language_info": {
   "codemirror_mode": {
    "name": "ipython",
    "version": 3
   },
   "file_extension": ".py",
   "mimetype": "text/x-python",
   "name": "python",
   "nbconvert_exporter": "python",
   "pygments_lexer": "ipython3",
   "version": "3.12.2"
  }
 },
 "nbformat": 4,
 "nbformat_minor": 2
}
