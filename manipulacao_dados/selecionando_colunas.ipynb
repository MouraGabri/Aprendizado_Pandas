{
 "cells": [
  {
   "cell_type": "markdown",
   "metadata": {},
   "source": [
    "### Bibliotecas"
   ]
  },
  {
   "cell_type": "code",
   "execution_count": 3,
   "metadata": {},
   "outputs": [],
   "source": [
    "import pandas as pd"
   ]
  },
  {
   "cell_type": "markdown",
   "metadata": {},
   "source": [
    "### Arquivo CSV"
   ]
  },
  {
   "cell_type": "code",
   "execution_count": 4,
   "metadata": {},
   "outputs": [
    {
     "data": {
      "text/html": [
       "<div>\n",
       "<style scoped>\n",
       "    .dataframe tbody tr th:only-of-type {\n",
       "        vertical-align: middle;\n",
       "    }\n",
       "\n",
       "    .dataframe tbody tr th {\n",
       "        vertical-align: top;\n",
       "    }\n",
       "\n",
       "    .dataframe thead th {\n",
       "        text-align: right;\n",
       "    }\n",
       "</style>\n",
       "<table border=\"1\" class=\"dataframe\">\n",
       "  <thead>\n",
       "    <tr style=\"text-align: right;\">\n",
       "      <th></th>\n",
       "      <th>AddressID</th>\n",
       "      <th>AddressLine1</th>\n",
       "      <th>AddressLine2</th>\n",
       "      <th>City</th>\n",
       "      <th>StateProvinceID</th>\n",
       "      <th>PostalCode</th>\n",
       "      <th>SpatialLocation</th>\n",
       "      <th>rowguid</th>\n",
       "      <th>ModifiedDate</th>\n",
       "    </tr>\n",
       "  </thead>\n",
       "  <tbody>\n",
       "    <tr>\n",
       "      <th>0</th>\n",
       "      <td>1</td>\n",
       "      <td>1970 Napa Ct.</td>\n",
       "      <td>NaN</td>\n",
       "      <td>Bothell</td>\n",
       "      <td>79</td>\n",
       "      <td>98011</td>\n",
       "      <td>0xE6100000010CAE8BFC28BCE4474067A89189898A5EC0</td>\n",
       "      <td>9AADCB0D-36CF-483F-84D8-585C2D4EC6E9</td>\n",
       "      <td>2007-12-04 00:00:00.000</td>\n",
       "    </tr>\n",
       "  </tbody>\n",
       "</table>\n",
       "</div>"
      ],
      "text/plain": [
       "   AddressID   AddressLine1 AddressLine2     City  StateProvinceID PostalCode  \\\n",
       "0          1  1970 Napa Ct.          NaN  Bothell               79      98011   \n",
       "\n",
       "                                  SpatialLocation  \\\n",
       "0  0xE6100000010CAE8BFC28BCE4474067A89189898A5EC0   \n",
       "\n",
       "                                rowguid             ModifiedDate  \n",
       "0  9AADCB0D-36CF-483F-84D8-585C2D4EC6E9  2007-12-04 00:00:00.000  "
      ]
     },
     "execution_count": 4,
     "metadata": {},
     "output_type": "execute_result"
    }
   ],
   "source": [
    "df = pd.read_csv(r'C:\\Users\\gm194\\Downloads\\Dados.csv', encoding= \"UTF-8\", sep = \";\")\n",
    "df.head(1)\n"
   ]
  },
  {
   "cell_type": "markdown",
   "metadata": {},
   "source": [
    "### Selecionando uma ou N Colunas Por índice"
   ]
  },
  {
   "cell_type": "code",
   "execution_count": 5,
   "metadata": {},
   "outputs": [
    {
     "data": {
      "text/html": [
       "<div>\n",
       "<style scoped>\n",
       "    .dataframe tbody tr th:only-of-type {\n",
       "        vertical-align: middle;\n",
       "    }\n",
       "\n",
       "    .dataframe tbody tr th {\n",
       "        vertical-align: top;\n",
       "    }\n",
       "\n",
       "    .dataframe thead th {\n",
       "        text-align: right;\n",
       "    }\n",
       "</style>\n",
       "<table border=\"1\" class=\"dataframe\">\n",
       "  <thead>\n",
       "    <tr style=\"text-align: right;\">\n",
       "      <th></th>\n",
       "      <th>City</th>\n",
       "      <th>AddressLine1</th>\n",
       "      <th>StateProvinceID</th>\n",
       "    </tr>\n",
       "  </thead>\n",
       "  <tbody>\n",
       "    <tr>\n",
       "      <th>0</th>\n",
       "      <td>Bothell</td>\n",
       "      <td>1970 Napa Ct.</td>\n",
       "      <td>79</td>\n",
       "    </tr>\n",
       "    <tr>\n",
       "      <th>1</th>\n",
       "      <td>Bothell</td>\n",
       "      <td>9833 Mt. Dias Blv.</td>\n",
       "      <td>79</td>\n",
       "    </tr>\n",
       "    <tr>\n",
       "      <th>2</th>\n",
       "      <td>Bothell</td>\n",
       "      <td>7484 Roundtree Drive</td>\n",
       "      <td>79</td>\n",
       "    </tr>\n",
       "    <tr>\n",
       "      <th>3</th>\n",
       "      <td>Bothell</td>\n",
       "      <td>9539 Glenside Dr</td>\n",
       "      <td>79</td>\n",
       "    </tr>\n",
       "    <tr>\n",
       "      <th>4</th>\n",
       "      <td>Bothell</td>\n",
       "      <td>1226 Shoe St.</td>\n",
       "      <td>79</td>\n",
       "    </tr>\n",
       "    <tr>\n",
       "      <th>...</th>\n",
       "      <td>...</td>\n",
       "      <td>...</td>\n",
       "      <td>...</td>\n",
       "    </tr>\n",
       "    <tr>\n",
       "      <th>995</th>\n",
       "      <td>Salt Lake City</td>\n",
       "      <td>2575 West 2700 South</td>\n",
       "      <td>74</td>\n",
       "    </tr>\n",
       "    <tr>\n",
       "      <th>996</th>\n",
       "      <td>Visalia</td>\n",
       "      <td>70259 West Sunnyview Ave</td>\n",
       "      <td>9</td>\n",
       "    </tr>\n",
       "    <tr>\n",
       "      <th>997</th>\n",
       "      <td>Hayward</td>\n",
       "      <td>60750 San Clemente</td>\n",
       "      <td>9</td>\n",
       "    </tr>\n",
       "    <tr>\n",
       "      <th>998</th>\n",
       "      <td>Fullerton</td>\n",
       "      <td>Receiving</td>\n",
       "      <td>9</td>\n",
       "    </tr>\n",
       "    <tr>\n",
       "      <th>999</th>\n",
       "      <td>San Diego</td>\n",
       "      <td>22555 Paseo De Las Americas</td>\n",
       "      <td>9</td>\n",
       "    </tr>\n",
       "  </tbody>\n",
       "</table>\n",
       "<p>1000 rows × 3 columns</p>\n",
       "</div>"
      ],
      "text/plain": [
       "               City                 AddressLine1  StateProvinceID\n",
       "0           Bothell                1970 Napa Ct.               79\n",
       "1           Bothell           9833 Mt. Dias Blv.               79\n",
       "2           Bothell         7484 Roundtree Drive               79\n",
       "3           Bothell             9539 Glenside Dr               79\n",
       "4           Bothell                1226 Shoe St.               79\n",
       "..              ...                          ...              ...\n",
       "995  Salt Lake City         2575 West 2700 South               74\n",
       "996         Visalia     70259 West Sunnyview Ave                9\n",
       "997         Hayward           60750 San Clemente                9\n",
       "998       Fullerton                    Receiving                9\n",
       "999       San Diego  22555 Paseo De Las Americas                9\n",
       "\n",
       "[1000 rows x 3 columns]"
      ]
     },
     "execution_count": 5,
     "metadata": {},
     "output_type": "execute_result"
    }
   ],
   "source": [
    "df['AddressLine1'].head(5)\n",
    "\n",
    "# Varias colunas\n",
    "df[['City','AddressLine1','StateProvinceID']] "
   ]
  }
 ],
 "metadata": {
  "kernelspec": {
   "display_name": "Python 3",
   "language": "python",
   "name": "python3"
  },
  "language_info": {
   "codemirror_mode": {
    "name": "ipython",
    "version": 3
   },
   "file_extension": ".py",
   "mimetype": "text/x-python",
   "name": "python",
   "nbconvert_exporter": "python",
   "pygments_lexer": "ipython3",
   "version": "3.12.2"
  }
 },
 "nbformat": 4,
 "nbformat_minor": 2
}
