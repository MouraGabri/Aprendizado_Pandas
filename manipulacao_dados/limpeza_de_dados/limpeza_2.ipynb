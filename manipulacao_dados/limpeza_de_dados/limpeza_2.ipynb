{
 "cells": [
  {
   "cell_type": "code",
   "execution_count": 9,
   "metadata": {},
   "outputs": [],
   "source": [
    "import pandas as pd\n",
    "import numpy as np\n",
    "df = pd.read_csv(r'C:\\Users\\gm194\\Downloads\\GasPricesinBrazil.csv', encoding= \"UTF-8\", sep = \";\")\n"
   ]
  },
  {
   "cell_type": "code",
   "execution_count": 2,
   "metadata": {},
   "outputs": [
    {
     "name": "stdout",
     "output_type": "stream",
     "text": [
      "<class 'pandas.core.frame.DataFrame'>\n",
      "RangeIndex: 106823 entries, 0 to 106822\n",
      "Data columns (total 21 columns):\n",
      " #   Column                         Non-Null Count   Dtype  \n",
      "---  ------                         --------------   -----  \n",
      " 0   Unnamed: 0                     106823 non-null  int64  \n",
      " 1   DATA INICIAL                   106823 non-null  object \n",
      " 2   DATA FINAL                     106823 non-null  object \n",
      " 3   REGIÃO                         106823 non-null  object \n",
      " 4   ESTADO                         106823 non-null  object \n",
      " 5   PRODUTO                        106823 non-null  object \n",
      " 6   NÚMERO DE POSTOS PESQUISADOS   106823 non-null  int64  \n",
      " 7   UNIDADE DE MEDIDA              106823 non-null  object \n",
      " 8   PREÇO MÉDIO REVENDA            106823 non-null  float64\n",
      " 9   DESVIO PADRÃO REVENDA          106823 non-null  float64\n",
      " 10  PREÇO MÍNIMO REVENDA           106823 non-null  float64\n",
      " 11  PREÇO MÁXIMO REVENDA           106823 non-null  float64\n",
      " 12  MARGEM MÉDIA REVENDA           106823 non-null  object \n",
      " 13  COEF DE VARIAÇÃO REVENDA       106823 non-null  float64\n",
      " 14  PREÇO MÉDIO DISTRIBUIÇÃO       106823 non-null  object \n",
      " 15  DESVIO PADRÃO DISTRIBUIÇÃO     106823 non-null  object \n",
      " 16  PREÇO MÍNIMO DISTRIBUIÇÃO      106823 non-null  object \n",
      " 17  PREÇO MÁXIMO DISTRIBUIÇÃO      106823 non-null  object \n",
      " 18  COEF DE VARIAÇÃO DISTRIBUIÇÃO  106823 non-null  object \n",
      " 19  MÊS                            106823 non-null  int64  \n",
      " 20  ANO                            106823 non-null  int64  \n",
      "dtypes: float64(5), int64(4), object(12)\n",
      "memory usage: 17.1+ MB\n"
     ]
    }
   ],
   "source": [
    "df.info()"
   ]
  },
  {
   "cell_type": "markdown",
   "metadata": {},
   "source": [
    "### Tratando valores Nulos\n",
    "<sub> **FILLNA** é usado para  Substituir valores indesejados como '-' e outros. O **REPLACE** é para Preencher NaNs resultantes com 0"
   ]
  },
  {
   "cell_type": "code",
   "execution_count": 17,
   "metadata": {},
   "outputs": [
    {
     "name": "stdout",
     "output_type": "stream",
     "text": [
      "<class 'pandas.core.frame.DataFrame'>\n",
      "RangeIndex: 106823 entries, 0 to 106822\n",
      "Data columns (total 21 columns):\n",
      " #   Column                         Non-Null Count   Dtype  \n",
      "---  ------                         --------------   -----  \n",
      " 0   Unnamed: 0                     106823 non-null  int64  \n",
      " 1   DATA INICIAL                   106823 non-null  object \n",
      " 2   DATA FINAL                     106823 non-null  object \n",
      " 3   REGIÃO                         106823 non-null  object \n",
      " 4   ESTADO                         106823 non-null  object \n",
      " 5   PRODUTO                        106823 non-null  object \n",
      " 6   NÚMERO DE POSTOS PESQUISADOS   106823 non-null  int64  \n",
      " 7   UNIDADE DE MEDIDA              106823 non-null  object \n",
      " 8   PREÇO MÉDIO REVENDA            106823 non-null  float64\n",
      " 9   DESVIO PADRÃO REVENDA          106823 non-null  float64\n",
      " 10  PREÇO MÍNIMO REVENDA           106823 non-null  float64\n",
      " 11  PREÇO MÁXIMO REVENDA           106823 non-null  float64\n",
      " 12  MARGEM MÉDIA REVENDA           106823 non-null  object \n",
      " 13  COEF DE VARIAÇÃO REVENDA       106823 non-null  float64\n",
      " 14  PREÇO MÉDIO DISTRIBUIÇÃO       106823 non-null  object \n",
      " 15  DESVIO PADRÃO DISTRIBUIÇÃO     106823 non-null  object \n",
      " 16  PREÇO MÍNIMO DISTRIBUIÇÃO      106823 non-null  object \n",
      " 17  PREÇO MÁXIMO DISTRIBUIÇÃO      106823 non-null  float64\n",
      " 18  COEF DE VARIAÇÃO DISTRIBUIÇÃO  106823 non-null  object \n",
      " 19  MÊS                            106823 non-null  int64  \n",
      " 20  ANO                            106823 non-null  int64  \n",
      "dtypes: float64(6), int64(4), object(11)\n",
      "memory usage: 17.1+ MB\n"
     ]
    },
    {
     "name": "stderr",
     "output_type": "stream",
     "text": [
      "C:\\Users\\gm194\\AppData\\Local\\Temp\\ipykernel_12704\\1874120032.py:7: FutureWarning: A value is trying to be set on a copy of a DataFrame or Series through chained assignment using an inplace method.\n",
      "The behavior will change in pandas 3.0. This inplace method will never work because the intermediate object on which we are setting values always behaves as a copy.\n",
      "\n",
      "For example, when doing 'df[col].method(value, inplace=True)', try using 'df.method({col: value}, inplace=True)' or df[col] = df[col].method(value) instead, to perform the operation inplace on the original object.\n",
      "\n",
      "\n",
      "  df['PREÇO MÁXIMO DISTRIBUIÇÃO'].fillna(0, inplace=True)\n"
     ]
    }
   ],
   "source": [
    "## Nesse caso como eu quero substituir a coluna para float, mas como ela possui '-' nas linhas, preciso substituir\n",
    "## para nan para poder passar para float\n",
    "df['PREÇO MÁXIMO DISTRIBUIÇÃO'] = df['PREÇO MÁXIMO DISTRIBUIÇÃO'].replace({'-': np.nan})\n",
    "\n",
    "##Aqui como eu já coloquei nan no lugar do '-', eu consigo passar para float tranquilamente. Colocando o \n",
    "## inplace para a alteração ficar gravada no df\n",
    "df['PREÇO MÁXIMO DISTRIBUIÇÃO'].fillna(0, inplace=True)\n",
    "\n",
    "## Transformando essa coluna para float\n",
    "df['PREÇO MÁXIMO DISTRIBUIÇÃO'] = df['PREÇO MÁXIMO DISTRIBUIÇÃO'].astype(float)\n",
    "df.info()\n"
   ]
  }
 ],
 "metadata": {
  "kernelspec": {
   "display_name": "Python 3",
   "language": "python",
   "name": "python3"
  },
  "language_info": {
   "codemirror_mode": {
    "name": "ipython",
    "version": 3
   },
   "file_extension": ".py",
   "mimetype": "text/x-python",
   "name": "python",
   "nbconvert_exporter": "python",
   "pygments_lexer": "ipython3",
   "version": "3.12.2"
  }
 },
 "nbformat": 4,
 "nbformat_minor": 2
}
