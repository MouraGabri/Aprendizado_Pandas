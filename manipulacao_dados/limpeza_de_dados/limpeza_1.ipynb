{
 "cells": [
  {
   "cell_type": "code",
   "execution_count": 2,
   "metadata": {},
   "outputs": [],
   "source": [
    "import pandas as pd\n",
    "df = pd.read_csv(r'C:\\Users\\gm194\\Downloads\\GasPricesinBrazil.csv', encoding= \"UTF-8\", sep = \";\")\n"
   ]
  },
  {
   "cell_type": "markdown",
   "metadata": {},
   "source": [
    "### Datas"
   ]
  },
  {
   "cell_type": "code",
   "execution_count": 3,
   "metadata": {},
   "outputs": [
    {
     "data": {
      "text/plain": [
       "0         2004-05-09\n",
       "1         2004-05-09\n",
       "2         2004-05-09\n",
       "3         2004-05-09\n",
       "4         2004-05-09\n",
       "             ...    \n",
       "106818    2019-06-23\n",
       "106819    2019-06-23\n",
       "106820    2019-06-23\n",
       "106821    2019-06-23\n",
       "106822    2019-06-23\n",
       "Name: DATA INICIAL, Length: 106823, dtype: object"
      ]
     },
     "execution_count": 3,
     "metadata": {},
     "output_type": "execute_result"
    }
   ],
   "source": [
    "## Passando coluna para o formato yyyy-mm-dd (DATETIME)\n",
    "df['DATA INICIAL'] = pd.to_datetime(df['DATA INICIAL'], format='%Y-%m-%d')\n",
    "df['DATA INICIAL']\n",
    "\n",
    "\n",
    "## Passando coluna para o formato yyyy-mm-dd (STRING)\n",
    "df['DATA INICIAL'] = pd.to_datetime(df['DATA INICIAL'], format='%d/%m/%Y').dt.strftime('%Y-%m-%d')\n",
    "df['DATA INICIAL']\n",
    "\n"
   ]
  },
  {
   "cell_type": "markdown",
   "metadata": {},
   "source": [
    "### Dados Numéricos"
   ]
  },
  {
   "cell_type": "markdown",
   "metadata": {},
   "source": [
    "**to_numeric** é uma função do Pandas usada para converter uma série (ou coluna) em um tipo **numérico, como int ou float**\n",
    "\n",
    "**lista_colunas.columns** é um DataFrame que contém apenas as colunas desejadas.\n",
    "Quando você usa lista_colunas.columns, você está pegando os nomes dessas colunas para usá-los no DataFrame original."
   ]
  },
  {
   "cell_type": "code",
   "execution_count": 4,
   "metadata": {},
   "outputs": [
    {
     "name": "stdout",
     "output_type": "stream",
     "text": [
      "<class 'pandas.core.frame.DataFrame'>\n",
      "RangeIndex: 106823 entries, 0 to 106822\n",
      "Data columns (total 7 columns):\n",
      " #   Column                         Non-Null Count   Dtype  \n",
      "---  ------                         --------------   -----  \n",
      " 0   MARGEM MÉDIA REVENDA           106823 non-null  object \n",
      " 1   COEF DE VARIAÇÃO REVENDA       106823 non-null  float64\n",
      " 2   PREÇO MÉDIO DISTRIBUIÇÃO       106823 non-null  object \n",
      " 3   DESVIO PADRÃO DISTRIBUIÇÃO     106823 non-null  object \n",
      " 4   PREÇO MÍNIMO DISTRIBUIÇÃO      106823 non-null  object \n",
      " 5   PREÇO MÁXIMO DISTRIBUIÇÃO      106823 non-null  object \n",
      " 6   COEF DE VARIAÇÃO DISTRIBUIÇÃO  106823 non-null  object \n",
      "dtypes: float64(1), object(6)\n",
      "memory usage: 5.7+ MB\n"
     ]
    }
   ],
   "source": [
    "## Convertendo colunas/Atributos para  'numeric'\n",
    "## Aqui eu seleciono todas as linhas das colunas 12-18(lembrando que vai até o 19 para pegar o 18)\n",
    "\n",
    "lista_colunas = df.iloc[:,12:19]\n",
    "# Converte a coluna (de valores String) para um tipo numérico\n",
    "# Em caso de erro na conversão(. ex: uma string que não representa um número), um valor vazio(null / nan) será\n",
    "# atribuído no lugar\n",
    "df[lista_colunas.columns] = lista_colunas.apply(pd.to_numeric, errors='coerce')\n",
    "lista_colunas.info()\n"
   ]
  },
  {
   "cell_type": "markdown",
   "metadata": {},
   "source": [
    "### Caso não queira fazer todo esse processo, pode passar 'X' colunas para float ou para int..."
   ]
  },
  {
   "cell_type": "code",
   "execution_count": 21,
   "metadata": {},
   "outputs": [],
   "source": [
    "lista_colunas = df.iloc[:,12:19]\n",
    "df[lista_colunas.columns] = lista_colunas.astype(float)\n"
   ]
  }
 ],
 "metadata": {
  "kernelspec": {
   "display_name": "Python 3",
   "language": "python",
   "name": "python3"
  },
  "language_info": {
   "codemirror_mode": {
    "name": "ipython",
    "version": 3
   },
   "file_extension": ".py",
   "mimetype": "text/x-python",
   "name": "python",
   "nbconvert_exporter": "python",
   "pygments_lexer": "ipython3",
   "version": "3.12.2"
  }
 },
 "nbformat": 4,
 "nbformat_minor": 2
}
