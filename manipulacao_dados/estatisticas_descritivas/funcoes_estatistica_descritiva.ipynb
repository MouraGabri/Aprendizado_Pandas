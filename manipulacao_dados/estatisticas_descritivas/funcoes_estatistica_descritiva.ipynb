{
 "cells": [
  {
   "cell_type": "code",
   "execution_count": 2,
   "metadata": {},
   "outputs": [],
   "source": [
    "import pandas as pd\n",
    "import numpy as np\n",
    "df = pd.read_csv(r'C:\\Users\\gm194\\Downloads\\GasPricesinBrazil.csv', encoding= \"UTF-8\", sep = \";\")\n"
   ]
  },
  {
   "cell_type": "markdown",
   "metadata": {},
   "source": [
    "### Estatística Descritiva para Pandas\n",
    "<sub> A estatística descritiva resume os dados por meio de:\n",
    "\n",
    "-- *Medidas de tendência central*:\n",
    "  \n",
    "- *Média*: Valor médio.  \n",
    "- *Mediana*: Valor central.  \n",
    "- *Moda*: Valor mais frequente.  \n",
    "\n",
    "-- *Medidas de Dispersão*:\n",
    "  \n",
    "- *Alcance*: Diferença entre o maior e o menor valor.  \n",
    "- *Variância*: Dispersão em relação à média.  \n",
    "- *Desvio Padrão*: Raiz quadrada da variância.  \n",
    "\n",
    "-- *Distribuição dos Dados*: Organização visual dos dados (ex: histograma).  \n",
    "-- *Representação Gráfica*: Data Viz.\n",
    "\n",
    "A estatística descritiva fornece uma visão clara e concisa dos dados."
   ]
  },
  {
   "cell_type": "code",
   "execution_count": 6,
   "metadata": {},
   "outputs": [
    {
     "data": {
      "text/plain": [
       "count     106823\n",
       "unique       397\n",
       "top            -\n",
       "freq        3400\n",
       "Name: COEF DE VARIAÇÃO DISTRIBUIÇÃO, dtype: object"
      ]
     },
     "execution_count": 6,
     "metadata": {},
     "output_type": "execute_result"
    }
   ],
   "source": [
    "df.describe()\n",
    "\n",
    "#Como o resultado do **describe** de um dataframe é outro dataframe, podemos filtrar algumas colunas\n",
    "df.describe()['NÚMERO DE POSTOS PESQUISADOS']\n",
    "\n",
    "# Ou posso fazer assim também.\n",
    "df['COEF DE VARIAÇÃO DISTRIBUIÇÃO'].describe()"
   ]
  },
  {
   "cell_type": "markdown",
   "metadata": {},
   "source": [
    "### Acessando apenas algumas estatísticas"
   ]
  },
  {
   "cell_type": "code",
   "execution_count": 39,
   "metadata": {},
   "outputs": [
    {
     "name": "stdout",
     "output_type": "stream",
     "text": [
      "Média:9.49'|' Max:94.5'|' Min:0.0\n"
     ]
    }
   ],
   "source": [
    "df['PREÇO MÁXIMO DISTRIBUIÇÃO'] = df['PREÇO MÁXIMO DISTRIBUIÇÃO'].replace({'-': np.nan})\n",
    "df['PREÇO MÁXIMO DISTRIBUIÇÃO'] = df['PREÇO MÁXIMO DISTRIBUIÇÃO'].fillna(0)\n",
    "df['PREÇO MÁXIMO DISTRIBUIÇÃO'] = df['PREÇO MÁXIMO DISTRIBUIÇÃO'].astype(float)\n",
    "\n",
    "\n",
    "media = df['PREÇO MÁXIMO DISTRIBUIÇÃO'].mean()\n",
    "max =   df['PREÇO MÁXIMO DISTRIBUIÇÃO'].max()\n",
    "min = df['PREÇO MÁXIMO DISTRIBUIÇÃO'].min()\n",
    "\n",
    "## Esse :.2f} é usado para trazer apenas 2 casas decimais \n",
    "print(f\"Média:{media:.2f}'|' Max:{max}'|' Min:{min}\")\n",
    "\n"
   ]
  },
  {
   "cell_type": "markdown",
   "metadata": {},
   "source": [
    "### Quantos registros cada estado possui\n",
    "<sub> **VALUE_COUNTS()** conta a frequência de valores de uma determinada variável"
   ]
  },
  {
   "cell_type": "code",
   "execution_count": 42,
   "metadata": {},
   "outputs": [
    {
     "data": {
      "text/plain": [
       "ESTADO\n",
       "RIO DE JANEIRO         4263\n",
       "SAO PAULO              4263\n",
       "RIO GRANDE DO SUL      4263\n",
       "BAHIA                  4263\n",
       "CEARA                  4263\n",
       "PARAIBA                4263\n",
       "SANTA CATARINA         4262\n",
       "RIO GRANDE DO NORTE    4262\n",
       "PERNAMBUCO             4262\n",
       "MINAS GERAIS           4261\n",
       "ESPIRITO SANTO         4260\n",
       "SERGIPE                4259\n",
       "PARANA                 4251\n",
       "ALAGOAS                4250\n",
       "MATO GROSSO DO SUL     4246\n",
       "MATO GROSSO            4037\n",
       "AMAZONAS               3889\n",
       "GOIAS                  3663\n",
       "PIAUI                  3548\n",
       "MARANHAO               3499\n",
       "PARA                   3497\n",
       "DISTRITO FEDERAL       3483\n",
       "TOCANTINS              3483\n",
       "ACRE                   3480\n",
       "RONDONIA               3479\n",
       "RORAIMA                3471\n",
       "AMAPA                  3403\n",
       "Name: count, dtype: int64"
      ]
     },
     "execution_count": 42,
     "metadata": {},
     "output_type": "execute_result"
    }
   ],
   "source": [
    "# Retorna em ordem crescente , a quantidade de registros/linhas para cada estado\n",
    "df['ESTADO'].value_counts()"
   ]
  }
 ],
 "metadata": {
  "kernelspec": {
   "display_name": "Python 3",
   "language": "python",
   "name": "python3"
  },
  "language_info": {
   "codemirror_mode": {
    "name": "ipython",
    "version": 3
   },
   "file_extension": ".py",
   "mimetype": "text/x-python",
   "name": "python",
   "nbconvert_exporter": "python",
   "pygments_lexer": "ipython3",
   "version": "3.12.2"
  }
 },
 "nbformat": 4,
 "nbformat_minor": 2
}
